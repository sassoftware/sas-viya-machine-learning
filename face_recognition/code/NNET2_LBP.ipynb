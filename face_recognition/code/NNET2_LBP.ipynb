{
 "metadata": {
  "name": "",
  "signature": "sha256:560373c7beb6db490a691b12a8d4e78fd26641fb689966c1edefbbebc0beec8a"
 },
 "nbformat": 3,
 "nbformat_minor": 0,
 "worksheets": [
  {
   "cells": [
    {
     "cell_type": "code",
     "collapsed": false,
     "input": [
      "\"\"\"\n",
      "Copyright (c) 2016 by SAS Institute\n",
      "Licensed under the Apache License, Version 2.0 (the \"License\");\n",
      "you may not use this file except in compliance with the License.\n",
      "You may obtain a copy of the License at\n",
      "\n",
      "   http://www.apache.org/licenses/LICENSE-2.0\n",
      "   \n",
      "Unless required by applicable law or agreed to in writing, software\n",
      "distributed under the License is distributed on an \"AS IS\" BASIS,\n",
      "WITHOUT WARRANTIES OR CONDITIONS OF ANY KIND, either express or implied.\n",
      "See the License for the specific language governing permissions and\n",
      "limitations under the License.\n",
      "\n",
      "\"\"\""
     ],
     "language": "python",
     "metadata": {},
     "outputs": []
    },
    {
     "cell_type": "code",
     "collapsed": false,
     "input": [
      "from swat import *\n",
      "from pprint import pprint\n",
      "from matplotlib import pyplot as plt\n",
      "import pandas as pd\n",
      "import os, sys\n",
      "import numpy as np\n",
      "from scipy import misc\n",
      "from PIL import Image\n",
      "from skimage import feature\n",
      "import re\n",
      "import csv\n",
      "\n",
      "# CAS setup\n",
      "cashost='rdcgrd001'\n",
      "casport=xxxxx\n",
      "casauth='C:/Users/xxxxx/_authinfo'\n",
      "\n",
      "# Start CAS session\n",
      "sess = CAS(cashost, casport, authinfo=casauth, caslib=\"casuser\")"
     ],
     "language": "python",
     "metadata": {},
     "outputs": []
    },
    {
     "cell_type": "code",
     "collapsed": false,
     "input": [
      "path = \n",
      "#destPath = \n",
      "dirs = os.listdir( path )\n",
      "nblocks   = 5\n",
      "npixels   = 16\n",
      "data      = []\n",
      "numPoints = 9\n",
      "radius    = 3"
     ],
     "language": "python",
     "metadata": {},
     "outputs": []
    },
    {
     "cell_type": "code",
     "collapsed": false,
     "input": [
      "for dir in dirs:\n",
      "    print dir\n",
      "    i = 1\n",
      "    # read in .pgm images and save as .jpg\n",
      "    dirname = path+\"\\\\\"+dir\n",
      "    print dirname\n",
      "    for file in os.listdir(dirname):\n",
      "        imageFile = dirname + \"\\\\\" + file\n",
      "        #destdirname = destPath+\"\\\\\"+dir\n",
      "        try:\n",
      "            os.stat(destdirname)\n",
      "        except:\n",
      "            os.mkdir(destdirname)\n",
      "        print imageFile\n",
      "        image = misc.imread(imageFile)\n",
      "        #print image.shape\n",
      "        # LBP transformation \n",
      "        lbp = feature.local_binary_pattern(image, numPoints,radius, method=\"uniform\")\n",
      "        #lbp8 = (((lbp - lbp.min()) / (lbp.max() - lbp.min())) * 250).astype(np.uint8)\n",
      "        #result = Image.fromarray(lbp8)\n",
      "        #outFile = destdirname + \"\\\\\" + str(i) + \".jpg\"\n",
      "        #result.save(outFile)\n",
      "\n",
      "        #downsize images to 90x90, divide each image to 5x5 blocks\n",
      "        slbp = misc.imresize(lbp, (90,90) )\n",
      "        features  = []\n",
      "        for j in range(nblocks):\n",
      "            for k in range(nblocks):\n",
      "                block = slbp[j*npixels:(j+1)*npixels,k*npixels:(k+1)*npixels]\n",
      "                #outImgFile = destdirname + \"\\\\\" + \"block\" + str(i)+str(j) +str(k)+ \".jpg\"\n",
      "                #misc.imsave(outImgFile, block)\n",
      "                \n",
      "                block = block.reshape(1,block.shape[0]*block.shape[1])\n",
      "                features.append(block)\n",
      "                #print np.array(features).shape\n",
      "        i +=1\n",
      "        features = np.array(features).reshape(1,block.shape[0]*block.shape[1]*nblocks*nblocks)\n",
      "        personID = int(re.search(r'\\d+', dir).group())\n",
      "        #print personID\n",
      "        features = np.append(features,personID)\n",
      "        #print features\n",
      "        data.append(features)\n"
     ],
     "language": "python",
     "metadata": {},
     "outputs": []
    },
    {
     "cell_type": "code",
     "collapsed": false,
     "input": [
      "print np.array(data).shape\n",
      "np.savetxt(\"LBP.csv\", data, delimiter=\",\", fmt=\"%i\")"
     ],
     "language": "python",
     "metadata": {},
     "outputs": []
    },
    {
     "cell_type": "code",
     "collapsed": false,
     "input": [
      "varList = []\n",
      "for i in range(np.array(data).shape[1]-1):\n",
      "    temp = \"Feature\" + str(i+1)\n",
      "    varList = np.append(varList,temp)\n",
      "varList = np.append(varList,'ID')\n",
      "#print varList\n"
     ],
     "language": "python",
     "metadata": {},
     "outputs": []
    },
    {
     "cell_type": "code",
     "collapsed": false,
     "input": [
      "with open('LBP_full.csv', 'wb') as outcsv:\n",
      "    writer = csv.writer(outcsv)    \n",
      "    writer.writerow(varList)\n",
      "    \n",
      "    with open('LBP.csv', 'rb') as incsv:\n",
      "        reader = csv.reader(incsv)\n",
      "        writer.writerows(row  for row in reader)"
     ],
     "language": "python",
     "metadata": {},
     "outputs": []
    },
    {
     "cell_type": "code",
     "collapsed": false,
     "input": [
      "out = sess.upload(\"LBP_full.csv\")"
     ],
     "language": "python",
     "metadata": {},
     "outputs": []
    },
    {
     "cell_type": "code",
     "collapsed": false,
     "input": [
      "#data=sess.CASTable('ORL_FULL1')\n",
      "#pprint(data.fetch(to=20))"
     ],
     "language": "python",
     "metadata": {},
     "outputs": []
    },
    {
     "cell_type": "code",
     "collapsed": false,
     "input": [
      "allVars = []\n",
      "for j in range(nblocks*nblocks):\n",
      "    varList = []\n",
      "    for i in range(j*npixels*npixels,(j+1)*npixels*npixels):\n",
      "        temp = \"Feature\" + str(i+1)\n",
      "        varList.append(temp)\n",
      "    allVars.append(varList)\n",
      "#print allVars"
     ],
     "language": "python",
     "metadata": {},
     "outputs": []
    },
    {
     "cell_type": "code",
     "collapsed": false,
     "input": [
      "sess.loadactionset(actionset=\"sampling\")\n",
      "sess.stratified(display={\"names\":\"STRAFreq\"},\n",
      "                output={\"casOut\":{\"name\":\"partLBP\", \"replace\":True}, \"copyVars\":\"ALL\"},\n",
      "                samppct=10,  partind=True, seed=654321,\n",
      "                table={\"name\":\"LBP_FULL\", \"groupBy\":{\"ID\"}})\n",
      "\n"
     ],
     "language": "python",
     "metadata": {},
     "outputs": []
    },
    {
     "cell_type": "code",
     "collapsed": false,
     "input": [
      "#stra_out=sess.CASTable('partLBP')\n",
      "#pprint(stra_out.fetch(to=20))"
     ],
     "language": "python",
     "metadata": {},
     "outputs": []
    },
    {
     "cell_type": "code",
     "collapsed": false,
     "input": [
      "sess.loadactionset(actionset=\"neuralNet\")\n",
      "    \n",
      "def NNET(k,hiddenUnits,seed):\n",
      "    NNETModel = \"_NNET_MODEL_\"+ str(k)\n",
      "    NNETScore = \"_NNET_SCORE_\"+ str(k)\n",
      "\n",
      "    sess.anntrain(acts={\"TANH\"},\n",
      "              arch=\"MLP\",randDist='UNIFORM', scaleInit=2, \n",
      "              casOut={\"name\":NNETModel, \"replace\":True}, \n",
      "              errorFunc=\"ENTROPY\",\n",
      "              hiddens={hiddenUnits},\n",
      "              inputs = allVars[k],\n",
      "              nloOpts={\"algorithm\":\"lbfgs\",\"optmlOpt\":{\"maxIters\":250,\"maxTime\":510.0,\"regL1\":0.0001,\"regL2\":0.0001},\n",
      "                       \"printOpt\":{\"statusMsg\":True}},\n",
      "              seed=seed,\n",
      "              std=\"MIDRANGE\",\n",
      "              target=\"ID\",targetAct=\"SOFTMAX\",nominals={'ID'},\n",
      "              validtable={\"name\":\"partLBP\",\"where\":\"_partIND_ = 1\" },\n",
      "              table={\"name\":\"partLBP\",\"where\":\"_partIND_ = 0\" })\n",
      "    \n",
      "    sess.annscore(#assess=True,\n",
      "              assessOneRow=True,\n",
      "              casOut={\"name\":NNETScore, \"replace\":True}, \n",
      "              model={\"name\":NNETModel},\n",
      "              target=\"ID\",\n",
      "              encodeName = True,\n",
      "              copyVars={\"ID\"},\n",
      "              table={\"name\":\"partLBP\",\"where\":\"_partIND_ = 1\" })\n",
      "    \n",
      "\n",
      "for i in range(25):\n",
      "    print (\"block: \"+str(i))\n",
      "    NNET(i,50,23451)\n",
      "    \n"
     ],
     "language": "python",
     "metadata": {},
     "outputs": []
    },
    {
     "cell_type": "code",
     "collapsed": false,
     "input": [
      "Str=\"data _nn_scored_merged;merge \"\n",
      "for i in range(25):\n",
      "    temp = \" _NNET_SCORE_\"+str(i) +\"(rename=(I_ID=I_ID\"+str(i)+\"))\"\n",
      "    Str = Str+temp\n",
      "print (Str)\n",
      "Str = Str + \"; by ID; keep ID \" \n",
      "for i in range(25):\n",
      "    temp = \" I_ID\"+str(i)\n",
      "    Str = Str+temp\n",
      "print (Str)\n",
      "Str = Str+\"; run;\"\n"
     ],
     "language": "python",
     "metadata": {},
     "outputs": []
    },
    {
     "cell_type": "code",
     "collapsed": false,
     "input": [
      "sess.dataStep.runCode( \n",
      "    code=Str\n",
      ")\n"
     ],
     "language": "python",
     "metadata": {},
     "outputs": []
    },
    {
     "cell_type": "code",
     "collapsed": false,
     "input": [
      "scores=sess.CASTable(\"_nn_scored_merged\")\n",
      "pred = scores.fetch(to=40)['Fetch']\n",
      "Freqs = np.zeros((40,40))\n",
      "ID = []\n",
      "for i in range(40):\n",
      "    index = int(pred.iloc[i].iloc[0])\n",
      "    ID = np.append(ID,index)\n",
      "    for j in range(1,26):\n",
      "        index = int(pred.iloc[i].iloc[j].strip())-1\n",
      "        Freqs[i][index] +=1\n",
      "        \n",
      "#print Freqs\n",
      "pred_ID = []\n",
      "for i in range(40):\n",
      "    tmpID = np.where(Freqs[i,]==max(Freqs[i,]))\n",
      "    tmpID = min(tmpID[0]+1)\n",
      "    pred_ID = np.append(pred_ID,tmpID)\n",
      "\n",
      "print ID,pred_ID\n"
     ],
     "language": "python",
     "metadata": {},
     "outputs": []
    },
    {
     "cell_type": "code",
     "collapsed": false,
     "input": [
      "def calMisclas(arr1,arr2):\n",
      "    n1 = len(arr1)\n",
      "    n2 = len(arr2)\n",
      "    if (n1==n2):\n",
      "        nMisclas = 0\n",
      "        for i in range(n1):\n",
      "            if (arr2[i]!=arr1[i]):  \n",
      "                nMisclas +=1\n",
      "        ratio = nMisclas/float(n1)\n",
      "    return ratio"
     ],
     "language": "python",
     "metadata": {},
     "outputs": []
    },
    {
     "cell_type": "code",
     "collapsed": false,
     "input": [
      "misRate = calMisclas(ID,p_ID)*100\n",
      "print misRate"
     ],
     "language": "python",
     "metadata": {},
     "outputs": []
    }
   ],
   "metadata": {}
  }
 ]
}